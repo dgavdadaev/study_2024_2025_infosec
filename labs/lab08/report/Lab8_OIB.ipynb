{
 "cells": [
  {
   "cell_type": "code",
   "execution_count": 57,
   "id": "2f88b5f6-8fd5-4a86-8423-125d3ba4ad6d",
   "metadata": {},
   "outputs": [
    {
     "name": "stdout",
     "output_type": "stream",
     "text": [
      "Открытый текст:  С Новым Годом, друзья! \n",
      "Ключ:  fDAoMYovvkmdiVwZWpQppf \n",
      "Шифротекст:  чdќёѿВѓVѥѕљњѕzWѮЗгѦмпG \n",
      "Исходный текст:  С Новым Годом, друзья!\n",
      "Открытый текст:  У Слона домов, огого!! \n",
      "Ключ:  fDAoMYovvkmdiVwZWpQppf \n",
      "Шифротекст:  хdѠєѳѤџVтѕёњћzWѤѤюѢюQG \n",
      "Исходный текст:  У Слона домов, огого!!\n",
      "Расшифровать второй текст, зная первый:  У Слона домов, огого!!\n",
      "Расшифровать первый текст, зная второй:  С Новым Годом, друзья!\n"
     ]
    }
   ],
   "source": [
    "import random\n",
    "import string\n",
    "\n",
    "def generate_key_hex(text):\n",
    "    key = ''\n",
    "    for i in range(len(text)):\n",
    "        key += random.choice(string.ascii_letters + string.digits) #генерация цифры для каждого символа в тексте\n",
    "    return key\n",
    "\n",
    "#для шифрования и дешифрования\n",
    "def en_de_crypt(text, key):\n",
    "    new_text = ''\n",
    "    for i in range(len(text)): #проход по каждому символу в тексте\n",
    "        new_text += chr(ord(text[i]) ^ ord(key[i % len(key)]))\n",
    "    return new_text\n",
    "\n",
    "t1 = 'С Новым Годом, друзья!'\n",
    "key = generate_key_hex(t1)\n",
    "en_t1 = en_de_crypt(t1, key)\n",
    "de_t1 = en_de_crypt(en_t1, key)\n",
    "\n",
    "t2 = \"У Слона домов, огого!!\"\n",
    "en_t2 = en_de_crypt(t2, key)\n",
    "de_t2 = en_de_crypt(en_t2, key)\n",
    "\n",
    "print('Открытый текст: ', t1, \"\\nКлюч: \", key, '\\nШифротекст: ', en_t1, '\\nИсходный текст: ', de_t1,)\n",
    "print('Открытый текст: ', t2, \"\\nКлюч: \", key, '\\nШифротекст: ', en_t2, '\\nИсходный текст: ', de_t2,)\n",
    "\n",
    "r = en_de_crypt(en_t2, en_t1) #С1^C2\n",
    "print('Расшифровать второй текст, зная первый: ', en_de_crypt(t1, r))\n",
    "print('Расшифровать первый текст, зная второй: ', en_de_crypt(t2, r))"
   ]
  }
 ],
 "metadata": {
  "kernelspec": {
   "display_name": "Python 3 (ipykernel)",
   "language": "python",
   "name": "python3"
  },
  "language_info": {
   "codemirror_mode": {
    "name": "ipython",
    "version": 3
   },
   "file_extension": ".py",
   "mimetype": "text/x-python",
   "name": "python",
   "nbconvert_exporter": "python",
   "pygments_lexer": "ipython3",
   "version": "3.11.0"
  }
 },
 "nbformat": 4,
 "nbformat_minor": 5
}
